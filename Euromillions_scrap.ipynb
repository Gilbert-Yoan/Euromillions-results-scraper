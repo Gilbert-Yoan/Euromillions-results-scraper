{
 "cells": [
  {
   "cell_type": "code",
   "execution_count": 1,
   "id": "b7bfbcdb-8202-4e22-bf8e-6637ca48b679",
   "metadata": {},
   "outputs": [
    {
     "data": {
      "text/plain": [
       "['1', '3', '18', '33', '36', '2', '6']"
      ]
     },
     "execution_count": 1,
     "metadata": {},
     "output_type": "execute_result"
    }
   ],
   "source": [
    "import requests\n",
    "from bs4 import BeautifulSoup\n",
    "import re\n",
    "\n",
    "def extract_h5_tags(url, muted):\n",
    "    results = []\n",
    "    try:\n",
    "        # Fetch the webpage content\n",
    "        response = requests.get(url)\n",
    "        response.raise_for_status()  # Raise an error for bad status codes\n",
    "        \n",
    "        # Parse the HTML content\n",
    "        soup = BeautifulSoup(response.text, 'html.parser')\n",
    "        \n",
    "        # Find all h5 tags\n",
    "        h5_tags = [tag for tag in soup.find_all('h5') if re.search(r'\\d', tag.text)]\n",
    "        \n",
    "        if muted :\n",
    "            #We suppose 5 first are winning numbers and two last are stars\n",
    "            for i, num in enumerate(h5_tags[0:5], 1):\n",
    "                results.append(num.text.strip())\n",
    "            for i, num in enumerate(h5_tags[5:7], 1):\n",
    "                results.append(num.text.strip())\n",
    "            \n",
    "        else :# Print the results\n",
    "            print(f\"Found {len(h5_tags)} h5 tags with numbers only on {url}:\")\n",
    "            for i, num in enumerate(h5_tags[0:5], 1):\n",
    "                print(f\"Winning number {i} : {num.text.strip()}\")\n",
    "                results.append(num.text.strip())\n",
    "            for i, num in enumerate(h5_tags[5:7], 1):\n",
    "                print(f\"Winning star number {i} : {num.text.strip()}\")\n",
    "                results.append(num.text.strip())\n",
    "            \n",
    "        return results\n",
    "        \n",
    "    except requests.exceptions.RequestException as e:\n",
    "        print(f\"Error fetching the URL: {e}\")\n",
    "        return results\n",
    "\n",
    "# Example usage\n",
    "url_to_scrape = \"https://www.fdj.fr/jeux-de-tirage/euromillions-my-million/resultats/mardi-25-mars-2025\"  # Replace with your target URL\n",
    "extract_h5_tags(url_to_scrape, 1)"
   ]
  },
  {
   "cell_type": "code",
   "execution_count": 8,
   "id": "8c459a5f-dc79-4ee4-9e4c-1b15c47d9605",
   "metadata": {},
   "outputs": [],
   "source": [
    "from datetime import datetime, timedelta\n",
    "from dateutil.relativedelta import relativedelta\n",
    "import locale\n",
    "import unicodedata\n",
    "\n",
    "def get_tuesdays_fridays_french():\n",
    "    \"\"\"\n",
    "    Get all Tuesdays and Fridays between two dates in French format 'jour-JJ-mois-AAAA'.\n",
    "    \n",
    "    Args:\n",
    "        start_date (str): Start date in 'YYYY-MM-DD' format\n",
    "        end_date (str): End date in 'YYYY-MM-DD' format\n",
    "    \n",
    "    Returns:\n",
    "        list: List of date objects\n",
    "        list: List of formatted date strings in French\n",
    "    \"\"\"\n",
    "    # Set French locale\n",
    "    locale.setlocale(locale.LC_TIME, 'fr_FR')\n",
    "    \n",
    "    # Get dates and 2 months ago\n",
    "    start = datetime.today() - relativedelta(months=2)\n",
    "    end = datetime.today() if datetime.today().now().hour > 20 else datetime.today() - relativedelta(days=1)\n",
    "    \n",
    "    # Initialize result list\n",
    "    result = []\n",
    "    iso_dates = []\n",
    "    \n",
    "    # Iterate through each day in the range\n",
    "    current = start\n",
    "    while current <= end:\n",
    "        # Check if current day is Tuesday (1) or Friday (4)\n",
    "        if current.weekday() in [1, 4]:\n",
    "            # Format as \"jour-JJ-mois-AAAA\" (e.g. \"Mardi-15-Octobre-2024\")\n",
    "            # Removes accented characters\n",
    "            nfkd_form = unicodedata.normalize(\"NFKD\",current.strftime(\"%A-%d-%B-%Y\"))\n",
    "            formatted_date = \"\".join([c for c in nfkd_form if not unicodedata.combining(c)])\n",
    "            result.append(formatted_date)\n",
    "            iso_dates.append(current.strftime(\"%Y-%m-%d\"))\n",
    "        \n",
    "        # Move to next day\n",
    "        current += timedelta(days=1)\n",
    "    \n",
    "    # Reset locale to default\n",
    "    locale.setlocale(locale.LC_TIME, '')\n",
    "    \n",
    "    return iso_dates, result\n",
    "\n",
    "# Example usage\n",
    "iso_dates, french_dates = get_tuesdays_fridays_french()"
   ]
  },
  {
   "cell_type": "code",
   "execution_count": 9,
   "id": "f7c32073-a558-48fb-8e83-28a48523ed9b",
   "metadata": {},
   "outputs": [],
   "source": [
    "%run selfdb.ipynb\n",
    "\n",
    "def save_to_db(resultats, date, db_path=\"euromillions.db\"):\n",
    "    try:\n",
    "        initialize_database(db_path)\n",
    "        conn = sqlite3.connect(db_path)\n",
    "        add_calendar_date(conn, date)\n",
    "        for num in resultats[0:5]:\n",
    "            add_number(conn, date, num)\n",
    "        for num in resultats[5:]:\n",
    "            add_star(conn, date, num)\n",
    "        conn.close()\n",
    "        print(f\"Saved date : {date}\")\n",
    "        return 0\n",
    "    except Exception as e :\n",
    "        print(f\"Error in saving : {e}\")\n",
    "        return 1"
   ]
  },
  {
   "cell_type": "code",
   "execution_count": 10,
   "id": "e40ac0c3-9269-4ed6-9d32-5c32a6163e6c",
   "metadata": {},
   "outputs": [
    {
     "name": "stdout",
     "output_type": "stream",
     "text": [
      "Saved date : 2025-02-11\n",
      "Saved date : 2025-02-14\n",
      "Saved date : 2025-02-18\n",
      "Saved date : 2025-02-21\n",
      "Saved date : 2025-02-25\n",
      "Saved date : 2025-02-28\n",
      "Saved date : 2025-03-04\n",
      "Saved date : 2025-03-07\n",
      "Saved date : 2025-03-11\n",
      "Saved date : 2025-03-14\n",
      "Saved date : 2025-03-18\n",
      "Saved date : 2025-03-21\n",
      "Saved date : 2025-03-25\n",
      "Saved date : 2025-03-28\n",
      "Saved date : 2025-04-01\n",
      "Saved date : 2025-04-04\n",
      "Saved date : 2025-04-08\n"
     ]
    }
   ],
   "source": [
    "base_url = \"https://www.fdj.fr/jeux-de-tirage/euromillions-my-million/resultats/\"\n",
    "for i, french_date in enumerate(french_dates, 1):\n",
    "    date_results = extract_h5_tags(base_url+french_date, muted=1)\n",
    "    save_to_db(date_results,iso_dates[i-1])"
   ]
  },
  {
   "cell_type": "code",
   "execution_count": null,
   "id": "c7421f20-6659-4b4c-9e79-8bf28cfba69f",
   "metadata": {},
   "outputs": [],
   "source": []
  }
 ],
 "metadata": {
  "kernelspec": {
   "display_name": "Python 3 (ipykernel)",
   "language": "python",
   "name": "python3"
  },
  "language_info": {
   "codemirror_mode": {
    "name": "ipython",
    "version": 3
   },
   "file_extension": ".py",
   "mimetype": "text/x-python",
   "name": "python",
   "nbconvert_exporter": "python",
   "pygments_lexer": "ipython3",
   "version": "3.12.9"
  }
 },
 "nbformat": 4,
 "nbformat_minor": 5
}
